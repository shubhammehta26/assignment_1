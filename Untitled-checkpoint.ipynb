{
 "cells": [
  {
   "cell_type": "code",
   "execution_count": null,
   "metadata": {},
   "outputs": [],
   "source": [
    "#Q1 Write a program to get a user input in the form of a list data type. Return a list by removing all\n",
    "#the duplicates.\n",
    "l = list((input()))\n",
    "print(\"the original list : \" ,l)\n",
    "l = list(set(l))\n",
    "print(\"remove duplicate : \" ,l)                           \n"
   ]
  },
  {
   "cell_type": "code",
   "execution_count": null,
   "metadata": {},
   "outputs": [],
   "source": [
    "#Q2 write a program to creat a user defined tuple with `int` datatype and perform the following operation \n",
    "# find the lenght of tuples\n",
    "# find the sum of the elements of tuples\n",
    "# find the largest and smallest elements of tuples\n",
    "t = tuple(input())\n",
    "print(t)\n",
    "print(len(t))\n",
    "print(min(t))\n",
    "print(max(t))\n",
    "print(sum)\n",
    "\n"
   ]
  },
  {
   "cell_type": "code",
   "execution_count": 10,
   "metadata": {},
   "outputs": [
    {
     "name": "stdout",
     "output_type": "stream",
     "text": [
      "NUM = 13\n",
      "clear ith bit = 1\n",
      "13\n"
     ]
    }
   ],
   "source": [
    "#Q3 given a number and ith bit, change the ith bit of that number to 1.\n",
    "num = int(input('NUM = '))\n",
    "i = int(input('clear ith bit = '))\n",
    "mag_num = ~(i<<1)\n",
    "output =mag_num & num\n",
    "print(output)"
   ]
  },
  {
   "cell_type": "code",
   "execution_count": 16,
   "metadata": {},
   "outputs": [
    {
     "name": "stdout",
     "output_type": "stream",
     "text": [
      "[4, 5, 3, 2]\n",
      "[9, 7, 1]\n",
      "[1, 2, 3, 4, 5, 7, 9]\n"
     ]
    }
   ],
   "source": [
    "#Q5 given two lists of integers A and B. write a program to merge them into a single sorted list that contain every item from list\n",
    "#A and B in asending order.\n",
    "A=[4,5,3,2]\n",
    "B=[9,7,1]\n",
    "print(A)\n",
    "print(B)\n",
    "new=A+B\n",
    "new.sort()\n",
    "print(new)\n"
   ]
  },
  {
   "cell_type": "code",
   "execution_count": 18,
   "metadata": {},
   "outputs": [
    {
     "name": "stdout",
     "output_type": "stream",
     "text": [
      "enter the number\n",
      "24\n",
      "0\n"
     ]
    }
   ],
   "source": [
    "#Q4 given a number , print 1 if the number is odd otherwise print 0.\n",
    "arr = [\"0\", \"1\"]\n",
    "print (\"enter the number\")\n",
    "no = input()\n",
    "print (arr[int(no) % 2])"
   ]
  },
  {
   "cell_type": "code",
   "execution_count": 1,
   "metadata": {},
   "outputs": [
    {
     "ename": "SyntaxError",
     "evalue": "invalid syntax (<ipython-input-1-0f276ee4fc6c>, line 4)",
     "output_type": "error",
     "traceback": [
      "\u001b[1;36m  File \u001b[1;32m\"<ipython-input-1-0f276ee4fc6c>\"\u001b[1;36m, line \u001b[1;32m4\u001b[0m\n\u001b[1;33m    a=input(\"enter the name of student:\")\u001b[0m\n\u001b[1;37m     ^\u001b[0m\n\u001b[1;31mSyntaxError\u001b[0m\u001b[1;31m:\u001b[0m invalid syntax\n"
     ]
    }
   ],
   "source": [
    "#Q6 create a user defined dictionary to store names and marks of 5 students . Sort the dictionary according to marks and return\n",
    "#this sorted dictionary to the \n",
    "mydict={\n",
    "a=input(\"enter the name of student:\")\n",
    "b=input(\"enter the name of student:\")\n",
    "c=input(\"enter the name of student:\")\n",
    "d=input(\"enter the name of student:\")\n",
    "e=input(\"enter the name of student:\")\n",
    "\n",
    "\n",
    "f=int(input(\"enter the marks of student:\"))\n",
    "g=int(input(\"enter the marks of student:\"))\n",
    "h=int(input(\"enter the marks of student:\"))\n",
    "i=int(input(\"enter the marks of student:\"))\n",
    "j=int(input(\"enter the marks of student:\"))\n",
    "}\n",
    "mydict={a:f,b:g,c:h,d:i,e:j}\n",
    "print(mydict)\n",
    "for key, value in sorted(mydict.items(),key=lambda item: item[1]):\n",
    "    print(\"%s: %s\" % (key,value))\n"
   ]
  },
  {
   "cell_type": "code",
   "execution_count": null,
   "metadata": {},
   "outputs": [],
   "source": []
  },
  {
   "cell_type": "code",
   "execution_count": null,
   "metadata": {},
   "outputs": [],
   "source": []
  }
 ],
 "metadata": {
  "kernelspec": {
   "display_name": "Python 3",
   "language": "python",
   "name": "python3"
  },
  "language_info": {
   "codemirror_mode": {
    "name": "ipython",
    "version": 3
   },
   "file_extension": ".py",
   "mimetype": "text/x-python",
   "name": "python",
   "nbconvert_exporter": "python",
   "pygments_lexer": "ipython3",
   "version": "3.7.6"
  }
 },
 "nbformat": 4,
 "nbformat_minor": 4
}
